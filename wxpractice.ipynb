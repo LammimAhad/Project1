{
 "cells": [
  {
   "cell_type": "code",
   "execution_count": 1,
   "metadata": {
    "collapsed": false
   },
   "outputs": [
    {
     "name": "stdout",
     "output_type": "stream",
     "text": [
      "Overwriting framecode.py\n"
     ]
    }
   ],
   "source": [
    "%%writefile framecode.py\n",
    "#!/usr/bin/env python                            #!/usr/bin/env python on linux\n",
    "import wx\n",
    "\n",
    "app = wx.App(False)                               #create a new app, don't redirect stdout/stderr to\n",
    "frame = wx.Frame(None, wx.ID_ANY, \"Practice App\")  # A frame is the top-level\n",
    "frame.Show(True)                                  #Show the frame\n",
    "app.MainLoop()"
   ]
  },
  {
   "cell_type": "code",
   "execution_count": 2,
   "metadata": {
    "collapsed": true
   },
   "outputs": [],
   "source": [
    "!python framecode.py  "
   ]
  },
  {
   "cell_type": "code",
   "execution_count": 9,
   "metadata": {
    "collapsed": false
   },
   "outputs": [
    {
     "name": "stdout",
     "output_type": "stream",
     "text": [
      "Overwriting editor.py\n"
     ]
    }
   ],
   "source": [
    "%%writefile editor.py\n",
    "#!/usr/bin/env python\n",
    "import wx\n",
    "class MyFrame(wx.Frame):\n",
    "    \"\"\" We simply derive a new class of Frame. \"\"\"\n",
    "    def __init__(self, parent, title):\n",
    "        wx.Frame.__init__(self, parent, title=title, size=(200,100))\n",
    "        self.control = wx.TextCtrl(self, style=wx.TE_MULTILINE)\n",
    "        self.Show(True)\n",
    "\n",
    "app = wx.App(False)\n",
    "frame = MyFrame(None, 'Practice App text editor')\n",
    "app.MainLoop()\n",
    "\n"
   ]
  },
  {
   "cell_type": "code",
   "execution_count": 10,
   "metadata": {
    "collapsed": true
   },
   "outputs": [],
   "source": [
    "!python editor.py  "
   ]
  },
  {
   "cell_type": "code",
   "execution_count": 18,
   "metadata": {
    "collapsed": false
   },
   "outputs": [
    {
     "name": "stdout",
     "output_type": "stream",
     "text": [
      "Overwriting editor.py\n"
     ]
    }
   ],
   "source": [
    "%%writefile editor.py\n",
    "#!/usr/bin/env python\n",
    "import wx\n",
    "\n",
    "class MainWindow(wx.Frame):\n",
    "    def __init__(self, parent, title):\n",
    "        wx.Frame.__init__(self, parent, title=title, size=(500,500))\n",
    "        self.control = wx.TextCtrl(self, style=wx.TE_MULTILINE)\n",
    "        self.CreateStatusBar() # A Statusbar in the bottom of the window\n",
    "\n",
    "        # Setting up the menu.\n",
    "        filemenu= wx.Menu()\n",
    "\n",
    "        # wx.ID_ABOUT and wx.ID_EXIT are standard IDs provided by wxWidgets.\n",
    "        filemenu.Append(wx.ID_ABOUT, \"&About\",\" Information about this program\")\n",
    "        filemenu.AppendSeparator()\n",
    "        filemenu.Append(wx.ID_EXIT,\"E&xit\",\" Terminate the program\")\n",
    "\n",
    "        # Creating the menubar.\n",
    "        menuBar = wx.MenuBar()\n",
    "        menuBar.Append(filemenu,\"&File\") # Adding the \"filemenu\" to the MenuBar\n",
    "        self.SetMenuBar(menuBar)  # Adding the MenuBar to the Frame content.\n",
    "        self.Show(True)\n",
    "\n",
    "app = wx.App(False)\n",
    "frame = MainWindow(None, \"Practice app\")\n",
    "app.MainLoop()"
   ]
  },
  {
   "cell_type": "code",
   "execution_count": 19,
   "metadata": {
    "collapsed": true
   },
   "outputs": [],
   "source": [
    "!python editor.py  "
   ]
  },
  {
   "cell_type": "code",
   "execution_count": 68,
   "metadata": {
    "collapsed": false
   },
   "outputs": [
    {
     "name": "stdout",
     "output_type": "stream",
     "text": [
      "Overwriting MainWindow.py\n"
     ]
    }
   ],
   "source": [
    "%%writefile MainWindow.py\n",
    "#!/usr/bin/env pythonw\n",
    "import wx\n",
    "class MyFrame(wx.Frame):\n",
    "        \"\"\"We simply derive a new class of frame\"\"\"\n",
    "        def __init__(self, parent, title):\n",
    "            wx.Frame.__init__(self, parent, title=title, size=(500,500))\n",
    "            self.control = wx.TextCtrl(self, style=wx.TE_MULTILINE)\n",
    "            self.CreateStatusBar() #A statusbar at the bottom of the window\n",
    "            \n",
    "            # setting up the menu.\n",
    "            filemenu= wx.Menu()\n",
    "            \n",
    "            # wx.ID_ABOUT and wx.ID_EXIT are standard IDs provided by wxWidgets\n",
    "            menuAbout = filemenu.Append(wx.ID_ABOUT, \"&About\",\" Information about this program\")\n",
    "            filemenu.AppendSeparator()\n",
    "            menuOpen = filemenu.Append(wx.ID_OPEN, \"&Open\",\" Opens a selected file from memory\")\n",
    "            filemenu.Append(wx.ID_CLOSE, \"&Close\",\" Closes an already opened file\")\n",
    "            filemenu.Append(wx.ID_SAVEAS, \"&Save as\",\" Save your current file as\")\n",
    "            menuExit = filemenu.Append(wx.ID_EXIT, \"&Exit\",\" Terminate the program\")\n",
    "            \n",
    "\n",
    "            \n",
    "            # Creating the menubar\n",
    "            menuBar = wx.MenuBar()\n",
    "            menuBar.Append(filemenu, \"&File\") # adding the \"filename\" to the...\n",
    "            self.SetMenuBar(menuBar) # Adding the MenuBar for the Frame content\n",
    "            self.Show(True)\n",
    "            \n",
    "            \n",
    "            \n",
    "            #New code beings here:\n",
    "            #set events:\n",
    "            self.Bind(wx.EVT_MENU, self.OnAbout, menuAbout)\n",
    "            ##self.Bind(wx.EVT_MENU, self.OnOpen, menuOpen)\n",
    "            self.Bind(wx.EVT_MENU, self.OnExit, menuExit)\n",
    "            self.Show(True)\n",
    "            \n",
    "        #add our new functions:\n",
    "        \n",
    "        def OnAbout(self,e):\n",
    "            # A message dialog box with an OK button, wx.OK is a standard ID\n",
    "            dlg = wx.MessageDialog( self, \"Let's start with small steps\", \"Sorry, there is nothing much to do here\", wx.OK, size=(350, 350))\n",
    "            dlg.ShowModal() #show it\n",
    "            dlg.Destroy() # destroy it when finished\n",
    "        \n",
    "        def OnExit(self,e):\n",
    "            self.Close(True) # close the frame\n",
    "            \n",
    "app = wx.App(False)\n",
    "frame = MyFrame(None, 'Practice App')\n",
    "app.MainLoop()"
   ]
  },
  {
   "cell_type": "code",
   "execution_count": 69,
   "metadata": {
    "collapsed": false
   },
   "outputs": [
    {
     "name": "stdout",
     "output_type": "stream",
     "text": [
      "Traceback (most recent call last):\r\n",
      "  File \"MainWindow.py\", line 42, in OnAbout\r\n",
      "    dlg = wx.MessageDialog( self, \"Let's start with small steps\", \"Sorry, there is nothing much to do here\", wx.OK, size=(350, 350))\r\n",
      "  File \"/home/csat8303/anaconda2/lib/python2.7/site-packages/wx-3.0-gtk2/wx/_windows.py\", line 3623, in __init__\r\n",
      "    _windows_.MessageDialog_swiginit(self,_windows_.new_MessageDialog(*args, **kwargs))\r\n",
      "TypeError: 'size' is an invalid keyword argument for this function\r\n"
     ]
    }
   ],
   "source": [
    "!python MainWindow.py"
   ]
  },
  {
   "cell_type": "code",
   "execution_count": null,
   "metadata": {
    "collapsed": true
   },
   "outputs": [],
   "source": []
  }
 ],
 "metadata": {
  "anaconda-cloud": {},
  "kernelspec": {
   "display_name": "Python [conda root]",
   "language": "python",
   "name": "conda-root-py"
  },
  "language_info": {
   "codemirror_mode": {
    "name": "ipython",
    "version": 2
   },
   "file_extension": ".py",
   "mimetype": "text/x-python",
   "name": "python",
   "nbconvert_exporter": "python",
   "pygments_lexer": "ipython2",
   "version": "2.7.12"
  }
 },
 "nbformat": 4,
 "nbformat_minor": 1
}
