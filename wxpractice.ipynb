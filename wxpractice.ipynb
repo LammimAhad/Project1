{
 "cells": [
  {
   "cell_type": "code",
   "execution_count": 22,
   "metadata": {
    "collapsed": false
   },
   "outputs": [
    {
     "name": "stdout",
     "output_type": "stream",
     "text": [
      "Overwriting MainWindow.py\n"
     ]
    }
   ],
   "source": [
    "%%writefile MainWindow.py\n",
    "#!/usr/bin/env pythonw\n",
    "import wx\n",
    "import os\n",
    "class MyFrame(wx.Frame):\n",
    "        \"\"\"We simply derive a new class of frame\"\"\"\n",
    "        def __init__(self, parent, title):\n",
    "            wx.Frame.__init__(self, parent, title=title, size=(500,500))\n",
    "            self.control = wx.TextCtrl(self, style=wx.TE_MULTILINE)\n",
    "            self.CreateStatusBar() #A statusbar at the bottom of the window\n",
    "            \n",
    "            # setting up the menu.\n",
    "            filemenu= wx.Menu()\n",
    "            \n",
    "            # wx.ID_ABOUT and wx.ID_EXIT are standard IDs provided by wxWidgets\n",
    "            menuAbout = filemenu.Append(wx.ID_ABOUT, \"&About\",\" Information about this program\")\n",
    "            filemenu.AppendSeparator()\n",
    "            menuOpen = filemenu.Append(wx.ID_OPEN, \"&Open\",\" Opens a selected file from memory\")\n",
    "            filemenu.Append(wx.ID_CLOSE, \"&Close\",\" Closes an already opened file\")\n",
    "            filemenu.Append(wx.ID_SAVEAS, \"&Save as\",\" Save your current file as\")\n",
    "            menuExit = filemenu.Append(wx.ID_EXIT, \"&Exit\",\" Terminate the program\")\n",
    "            \n",
    "\n",
    "            \n",
    "            # Creating the menubar\n",
    "            menuBar = wx.MenuBar()\n",
    "            menuBar.Append(filemenu, \"&File\") # adding the \"filename\" to the...\n",
    "            self.SetMenuBar(menuBar) # Adding the MenuBar for the Frame content\n",
    "            self.Show(True)\n",
    "            \n",
    "            \n",
    "            \n",
    "            #New code beings here:\n",
    "            #set events:\n",
    "            self.Bind(wx.EVT_MENU, self.OnAbout, menuAbout)\n",
    "            self.Bind(wx.EVT_MENU, self.OnOpen, menuOpen)\n",
    "            self.Bind(wx.EVT_MENU, self.OnExit, menuExit)\n",
    "            self.Show(True)\n",
    "            \n",
    "        #add our new functions:\n",
    "        \n",
    "        def OnAbout(self,e):\n",
    "            # A message dialog box with an OK button, wx.OK is a standard ID\n",
    "            dlg = wx.MessageDialog( self, \"Let's start with small steps\",\n",
    "                                   \"Sorry, there is nothing much to do here\", wx.OK)\n",
    "            dlg.ShowModal() #show it\n",
    "            dlg.Destroy() # destroy it when finished\n",
    "        \n",
    "        def OnExit(self,e):\n",
    "            self.Close(True) # close the frame\n",
    "            \n",
    "        def OnOpen(self,e):  #Open a file\n",
    "            \"\"\"Open a file\"\"\"\n",
    "            self.dirname = ''\n",
    "            dlg = wx.FileDialog(self, \"Choose a text file\", self.dirname, \"\", \"*.txt\", wx.OPEN)\n",
    "            if dlg.ShowModal() == wx.ID_OK:\n",
    "                self.filename = dlg.GetFilename()\n",
    "                self.dirname = dlg.GetDirectory()\n",
    "                f = open(os.path.join(self.dirname, self.filename), 'r')\n",
    "                self.control.SetValue(f.read())\n",
    "                f.close()\n",
    "            dlg.Destroy()\n",
    "            \n",
    "app = wx.App(False)\n",
    "frame = MyFrame(None, 'Practice App')\n",
    "app.MainLoop()"
   ]
  },
  {
   "cell_type": "code",
   "execution_count": 23,
   "metadata": {
    "collapsed": false
   },
   "outputs": [],
   "source": [
    "!python MainWindow.py"
   ]
  },
  {
   "cell_type": "code",
   "execution_count": null,
   "metadata": {
    "collapsed": true
   },
   "outputs": [],
   "source": []
  }
 ],
 "metadata": {
  "anaconda-cloud": {},
  "kernelspec": {
   "display_name": "Python [conda root]",
   "language": "python",
   "name": "conda-root-py"
  },
  "language_info": {
   "codemirror_mode": {
    "name": "ipython",
    "version": 2
   },
   "file_extension": ".py",
   "mimetype": "text/x-python",
   "name": "python",
   "nbconvert_exporter": "python",
   "pygments_lexer": "ipython2",
   "version": "2.7.12"
  }
 },
 "nbformat": 4,
 "nbformat_minor": 1
}
