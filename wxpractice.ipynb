{
 "cells": [
  {
   "cell_type": "code",
   "execution_count": 68,
   "metadata": {
    "collapsed": false
   },
   "outputs": [
    {
     "name": "stdout",
     "output_type": "stream",
     "text": [
      "Overwriting MainWindow.py\n"
     ]
    }
   ],
   "source": [
    "%%writefile MainWindow.py\n",
    "#!/usr/bin/env pythonw\n",
    "import numpy as np\n",
    "import matplotlib.pyplot as plt\n",
    "#from numpy import arange, sin, pi\n",
    "from matplotlib.backends.backend_wxagg import FigureCanvasWxAgg as FigureCanvas\n",
    "from matplotlib.figure import Figure\n",
    "\n",
    "import wx\n",
    "import os\n",
    "class MyFrame(wx.Frame):\n",
    "        \"\"\"We simply derive a new class of frame\"\"\"\n",
    "        def __init__(self, parent, title):\n",
    "            wx.Frame.__init__(self, parent, title=title, size=(1000,700))\n",
    "            self.control = wx.TextCtrl(self, style=wx.TE_MULTILINE)\n",
    "            self.CreateStatusBar() #A statusbar at the bottom of the window\n",
    "            \n",
    "            # setting up the menu.\n",
    "            filemenu= wx.Menu()\n",
    "            \n",
    "            # wx.ID_ABOUT and wx.ID_EXIT are standard IDs provided by wxWidgets\n",
    "            menuAbout = filemenu.Append(wx.ID_ABOUT, \"&About\",\" Information about this program\")\n",
    "            filemenu.AppendSeparator()\n",
    "            menuOpen = filemenu.Append(wx.ID_OPEN, \"&Open\",\" Opens a selected file from memory\")\n",
    "            filemenu.Append(wx.ID_CLOSE, \"&Close\",\" Closes an already opened file\")\n",
    "            filemenu.Append(wx.ID_SAVEAS, \"&Save as\",\" Save your current file as\")\n",
    "            menuExit = filemenu.Append(wx.ID_EXIT, \"&Exit\",\" Terminate the program\")\n",
    "            \n",
    "            #adding a plot window\n",
    "            self.figure = Figure()\n",
    "            self.axes = self.figure.add_subplot(111)\n",
    "           \n",
    "            self.canvas = FigureCanvas(self, -1, self.figure)\n",
    "\n",
    "            self.sizer = wx.BoxSizer(wx.HORIZONTAL)\n",
    "            self.sizer.Add(self.canvas, 1, wx.LEFT | wx.TOP )\n",
    "            self.SetSizer(self.sizer)\n",
    "            \n",
    "            \n",
    "\n",
    "            # Creating the menubar\n",
    "            menuBar = wx.MenuBar()\n",
    "            menuBar.Append(filemenu, \"&File\") # adding the \"filename\" to the...\n",
    "            self.SetMenuBar(menuBar) # Adding the MenuBar for the Frame contentt\n",
    "            self.Show(True)\n",
    "            \n",
    "            \n",
    "            #set events:\n",
    "            self.Bind(wx.EVT_MENU, self.OnAbout, menuAbout)\n",
    "            self.Bind(wx.EVT_MENU, self.OnOpen, menuOpen)\n",
    "            self.Bind(wx.EVT_MENU, self.OnExit, menuExit)\n",
    "            self.Show(True)\n",
    "            \n",
    "            #buttons to control data\n",
    "            \n",
    "            self.sizer2 = wx.BoxSizer(wx.VERTICAL)\n",
    "            self.buttons = []\n",
    "            btn_name=[\"Plot\",\"Mean\",\"Mod\",\"Median\",\"CDF\"]\n",
    "            for i in range(0, 5):\n",
    "                self.buttons.append(wx.Button(self, -1, btn_name[i]))\n",
    "                self.sizer2.Add(self.buttons[i], 1, wx.EXPAND)\n",
    "            #binding buttons\n",
    "            \n",
    "            \n",
    "            self.Bind(wx.EVT_BUTTON, self.plot_data, self.buttons[0])\n",
    "            self.Bind(wx.EVT_BUTTON, self.mean_data, self.buttons[1])\n",
    "            '''\n",
    "            self.Bind(wx.EVT_BUTTON, self.mod_data, self.buttons[2])\n",
    "            self.Bind(wx.EVT_BUTTON, self.median_data, self.buttons[3])\n",
    "            self.Bind(wx.EVT_BUTTON, self.cdf_data, self.buttons[4])\n",
    "            '''\n",
    "            \n",
    "            # Use some sizers to see layout options\n",
    "            self.sizer = wx.BoxSizer(wx.HORIZONTAL)\n",
    "            self.sizer.Add(self.control, 5, wx.EXPAND)\n",
    "            self.sizer.Add(self.canvas, 1, wx.EXPAND)            \n",
    "            self.sizer.Add(self.sizer2, 1, wx.EXPAND)\n",
    "\n",
    "            #Layout sizers\n",
    "            self.SetSizer(self.sizer)\n",
    "            self.SetAutoLayout(1)\n",
    "            #self.sizer.Fit(self)\n",
    "            self.Show()\n",
    "            \n",
    "            \n",
    "        #definition of functions:\n",
    "        \n",
    "        def OnAbout(self,e):\n",
    "            # A message dialog box with an OK button, wx.OK is a standard ID\n",
    "            dlg = wx.MessageDialog( self, \"Sorry, there is nothing much to do here at this point. But there are some attempts to show how it will look at the end. \\nLet's start with small steps\",\n",
    "                                   \"About this application\", wx.OK)\n",
    "            dlg.ShowModal() #show it\n",
    "            dlg.Destroy() # destroy it when finished\n",
    "        \n",
    "        def OnExit(self,e):\n",
    "            self.Close(True) # close the frame\n",
    "            \n",
    "        def OnOpen(self,e):  #Open a file\n",
    "            \"\"\"Open a file\"\"\"\n",
    "            self.dirname = ''\n",
    "            dlg = wx.FileDialog(self, \"Choose a text file\", self.dirname, \"\", \"*.txt\", wx.OPEN)\n",
    "            if dlg.ShowModal() == wx.ID_OK:\n",
    "                self.filename = dlg.GetFilename()\n",
    "                self.dirname = dlg.GetDirectory()\n",
    "                filepath=os.path.join(self.dirname, self.filename)\n",
    "                f = open(os.path.join(self.dirname, self.filename), 'r')\n",
    "                self.data = np.loadtxt(filepath)\n",
    "                print self.data\n",
    "                self.control.SetValue(f.read())\n",
    "                f.close()\n",
    "            dlg.Destroy()\n",
    "        def plot_data(self,event):\n",
    "            fig1 = self.figure.add_subplot(111)\n",
    "            x = self.data[:,0]\n",
    "            y = self.data[:,1]\n",
    "            fig1.plot(x,y)\n",
    "            self.canvas.draw()\n",
    "        def mean_data(self,event):\n",
    "            fig1 = self.figure.add_subplot(111)\n",
    "            x1 = self.data[:,0]\n",
    "            y1 = self.data[:,1]\n",
    "            meany = np.mean(self.data[:,1])\n",
    "            #print meany\n",
    "            y_mean = np.zeros((len(x1),1))\n",
    "            for k in range(0, 10, 1):\n",
    "                y_mean[k] = meany\n",
    "                \n",
    "            fig1.plot(x1, y_mean)\n",
    "            self.canvas.draw()\n",
    " \n",
    "class App(wx.App):\n",
    "    def OnInit(self):\n",
    "        'Create the main window and insert the custom frame'\n",
    "        frame = CanvasFrame()\n",
    "        frame.Show(True)\n",
    "        return True\n",
    "\n",
    "app = wx.App(False)\n",
    "frame = MyFrame(None, 'Practice App')\n",
    "app.MainLoop()"
   ]
  },
  {
   "cell_type": "code",
   "execution_count": 69,
   "metadata": {
    "collapsed": false
   },
   "outputs": [
    {
     "name": "stdout",
     "output_type": "stream",
     "text": [
      "[[  1.  12.]\n",
      " [  2.  34.]\n",
      " [  3.  75.]\n",
      " [  4.  23.]\n",
      " [  5.  82.]\n",
      " [  6.  67.]\n",
      " [  7.  23.]\n",
      " [  8.  27.]\n",
      " [  9.  37.]\n",
      " [ 10.  78.]]\n",
      "45.8\n",
      "45.8\n",
      "45.8\n",
      "45.8\n",
      "45.8\n",
      "45.8\n",
      "45.8\n",
      "45.8\n",
      "45.8\n",
      "45.8\n"
     ]
    }
   ],
   "source": [
    "!python MainWindow.py"
   ]
  },
  {
   "cell_type": "code",
   "execution_count": null,
   "metadata": {
    "collapsed": true
   },
   "outputs": [],
   "source": []
  },
  {
   "cell_type": "code",
   "execution_count": null,
   "metadata": {
    "collapsed": true
   },
   "outputs": [],
   "source": []
  },
  {
   "cell_type": "code",
   "execution_count": null,
   "metadata": {
    "collapsed": true
   },
   "outputs": [],
   "source": []
  }
 ],
 "metadata": {
  "anaconda-cloud": {},
  "kernelspec": {
   "display_name": "Python [conda root]",
   "language": "python",
   "name": "conda-root-py"
  },
  "language_info": {
   "codemirror_mode": {
    "name": "ipython",
    "version": 2
   },
   "file_extension": ".py",
   "mimetype": "text/x-python",
   "name": "python",
   "nbconvert_exporter": "python",
   "pygments_lexer": "ipython2",
   "version": "2.7.12"
  }
 },
 "nbformat": 4,
 "nbformat_minor": 1
}
